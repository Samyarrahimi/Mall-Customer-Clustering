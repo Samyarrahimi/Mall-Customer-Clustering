{
 "cells": [
  {
   "cell_type": "code",
   "execution_count": 1,
   "metadata": {},
   "outputs": [],
   "source": [
    "from sklearn.cluster import DBSCAN\n",
    "from sklearn.neighbors import NearestNeighbors\n",
    "import pandas as pd\n",
    "import numpy as np\n",
    "import matplotlib.pyplot as plt"
   ]
  },
  {
   "cell_type": "code",
   "execution_count": 2,
   "metadata": {},
   "outputs": [
    {
     "data": {
      "text/html": [
       "<div>\n",
       "<style scoped>\n",
       "    .dataframe tbody tr th:only-of-type {\n",
       "        vertical-align: middle;\n",
       "    }\n",
       "\n",
       "    .dataframe tbody tr th {\n",
       "        vertical-align: top;\n",
       "    }\n",
       "\n",
       "    .dataframe thead th {\n",
       "        text-align: right;\n",
       "    }\n",
       "</style>\n",
       "<table border=\"1\" class=\"dataframe\">\n",
       "  <thead>\n",
       "    <tr style=\"text-align: right;\">\n",
       "      <th></th>\n",
       "      <th>CustomerID</th>\n",
       "      <th>Gender</th>\n",
       "      <th>Age</th>\n",
       "      <th>Annual Income</th>\n",
       "      <th>Spending Score</th>\n",
       "    </tr>\n",
       "  </thead>\n",
       "  <tbody>\n",
       "    <tr>\n",
       "      <th>0</th>\n",
       "      <td>1</td>\n",
       "      <td>Male</td>\n",
       "      <td>19</td>\n",
       "      <td>15</td>\n",
       "      <td>39</td>\n",
       "    </tr>\n",
       "    <tr>\n",
       "      <th>1</th>\n",
       "      <td>2</td>\n",
       "      <td>Male</td>\n",
       "      <td>21</td>\n",
       "      <td>15</td>\n",
       "      <td>81</td>\n",
       "    </tr>\n",
       "    <tr>\n",
       "      <th>2</th>\n",
       "      <td>3</td>\n",
       "      <td>Female</td>\n",
       "      <td>20</td>\n",
       "      <td>16</td>\n",
       "      <td>6</td>\n",
       "    </tr>\n",
       "    <tr>\n",
       "      <th>3</th>\n",
       "      <td>4</td>\n",
       "      <td>Female</td>\n",
       "      <td>23</td>\n",
       "      <td>16</td>\n",
       "      <td>77</td>\n",
       "    </tr>\n",
       "    <tr>\n",
       "      <th>4</th>\n",
       "      <td>5</td>\n",
       "      <td>Female</td>\n",
       "      <td>31</td>\n",
       "      <td>17</td>\n",
       "      <td>40</td>\n",
       "    </tr>\n",
       "  </tbody>\n",
       "</table>\n",
       "</div>"
      ],
      "text/plain": [
       "   CustomerID  Gender  Age  Annual Income  Spending Score\n",
       "0           1    Male   19             15              39\n",
       "1           2    Male   21             15              81\n",
       "2           3  Female   20             16               6\n",
       "3           4  Female   23             16              77\n",
       "4           5  Female   31             17              40"
      ]
     },
     "execution_count": 2,
     "metadata": {},
     "output_type": "execute_result"
    }
   ],
   "source": [
    "columns = ['CustomerID', 'Gender', 'Age', 'Annual Income','Spending Score']\n",
    "df = pd.read_csv(\"Mall_Customers.csv\")\n",
    "df.columns = columns\n",
    "df.head()"
   ]
  },
  {
   "cell_type": "code",
   "execution_count": 3,
   "metadata": {},
   "outputs": [],
   "source": [
    "df[\"Gender\"] = df.Gender.apply(lambda x: 0 if x == \"Male\" else 1)"
   ]
  },
  {
   "cell_type": "code",
   "execution_count": 4,
   "metadata": {},
   "outputs": [
    {
     "name": "stdout",
     "output_type": "stream",
     "text": [
      "[-1  0  1  2  3  4  5]\n"
     ]
    }
   ],
   "source": [
    "clustering = DBSCAN(eps=18, min_samples=7)\n",
    "clustering.fit(df)\n",
    "clusters = clustering.labels_\n",
    "print(np.unique(clusters))"
   ]
  },
  {
   "cell_type": "code",
   "execution_count": 5,
   "metadata": {},
   "outputs": [
    {
     "data": {
      "text/plain": [
       "<matplotlib.legend.Legend at 0x1bb94ea76c8>"
      ]
     },
     "execution_count": 5,
     "metadata": {},
     "output_type": "execute_result"
    },
    {
     "data": {
      "image/png": "[encoded data removed]",
      "text/plain": [
       "<Figure size 432x288 with 1 Axes>"
      ]
     },
     "metadata": {
      "needs_background": "light"
     },
     "output_type": "display_data"
    }
   ],
   "source": [
    "colors = [\"red\",\"teal\",\"blue\",\"khaki\",\"green\",\"purple\",\"pink\",\"lime\",\"black\",\"yellow\",\"cyan\",\"brown\",\"orange\",\"violet\"]\n",
    "\n",
    "for i in np.unique(clusters):\n",
    "    plt.scatter(df.iloc[clusters == i, 3], df.iloc[clusters == i, 4], s = 100, c = colors[i+1], label = 'cluster{}'.format(i))\n",
    "plt.legend()"
   ]
  },
  {
   "cell_type": "code",
   "execution_count": 6,
   "metadata": {},
   "outputs": [],
   "source": [
    "neigh = NearestNeighbors(n_neighbors=7, radius = 4)\n",
    "nbrs = neigh.fit(df)\n",
    "distances, indices = nbrs.kneighbors(df)"
   ]
  },
  {
   "cell_type": "code",
   "execution_count": 7,
   "metadata": {},
   "outputs": [
    {
     "data": {
      "text/plain": [
       "[<matplotlib.lines.Line2D at 0x1bb94f45448>]"
      ]
     },
     "execution_count": 7,
     "metadata": {},
     "output_type": "execute_result"
    },
    {
     "data": {
      "image/png": "[encoded data removed]",
      "text/plain": [
       "<Figure size 432x288 with 1 Axes>"
      ]
     },
     "metadata": {
      "needs_background": "light"
     },
     "output_type": "display_data"
    }
   ],
   "source": [
    "distances = np.sort(distances, axis=0)\n",
    "distances = distances[:,1]\n",
    "plt.plot(distances)"
   ]
  },
  {
   "cell_type": "code",
   "execution_count": 8,
   "metadata": {},
   "outputs": [],
   "source": [
    "from sklearn.metrics import pairwise_distances\n",
    "from sklearn.metrics import euclidean_distances\n",
    "from math import ceil\n",
    "import numpy as np\n",
    "import time\n",
    "\n",
    "\n",
    "def betacv_simple(data, labels, size=3000, metric='euclidean'):\n",
    "    n = labels.shape[0]\n",
    "    n_slices = ceil(n/size)\n",
    "    intra = 0\n",
    "    inter = 0\n",
    "    n_in = 0\n",
    "    n_out = 0\n",
    "    last = 0\n",
    "    labels_unq = np.unique(labels)\n",
    "    members = np.array([member_count(labels, i) for i in labels_unq])\n",
    "    N_in = np.array([i*(i-1) for i in members])\n",
    "    n_in = np.sum(N_in)\n",
    "    N_out = np.array([i*(n-i) for i in members])\n",
    "    n_out = np.sum(N_out)\n",
    "    \n",
    "    for i in range(n_slices):\n",
    "        x = data[last:(last+size), :]\n",
    "        distances = euclidean_distances(x, data)\n",
    "        j_range = min(size, n-size*i)\n",
    "        A = np.array([intra_cluster_distance(distances[j], labels, j+last)\n",
    "                  for j in range(j_range)])\n",
    "        B = np.array([inter_cluster_distance(distances[j], labels, j+last)\n",
    "                  for j in range(j_range)])\n",
    "        intra += np.sum(A)\n",
    "        inter += np.sum(B)\n",
    "        last += size\n",
    "\n",
    "    betacv = (intra/n_in)/(inter/n_out)\n",
    "    print('simple intra:', intra)\n",
    "    print('simple inter:', inter)\n",
    "    print('simple n_in :', n_in)\n",
    "    print('simple n_out:', n_out)\n",
    "    return betacv\n",
    "\n",
    "def betacv(data, labels, metric='euclidean'):\n",
    "    distances = pairwise_distances(data, metric=metric)\n",
    "    n = labels.shape[0]\n",
    "    A = np.array([intra_cluster_distance(distances[i], labels, i)\n",
    "                  for i in range(n)])\n",
    "    B = np.array([inter_cluster_distance(distances[i], labels, i)\n",
    "                  for i in range(n)])\n",
    "    a = np.sum(A)\n",
    "    b = np.sum(B)\n",
    "    labels_unq = np.unique(labels)\n",
    "    members = np.array([member_count(labels, i) for i in labels_unq])\n",
    "    N_in = np.array([i*(i-1) for i in members])\n",
    "    n_in = np.sum(N_in)\n",
    "    N_out = np.array([i*(n-i) for i in members])\n",
    "    n_out = np.sum(N_out)\n",
    "    betacv = (a/n_in)/(b/n_out)\n",
    "    print('intra:', a)\n",
    "    print('inter:', b)\n",
    "    print('n_in :', n_in)\n",
    "    print('n_out:', n_out)\n",
    "    return betacv\n",
    "\n",
    "def intra_cluster_distance(distances_row, labels, i):\n",
    "    mask = labels == labels[i]\n",
    "    mask[i] = False\n",
    "    if not np.any(mask):\n",
    "        # cluster of size 1\n",
    "        return 0\n",
    "    a = np.sum(distances_row[mask])\n",
    "    return a\n",
    "\n",
    "def inter_cluster_distance(distances_row, labels, i):\n",
    "    mask = labels != labels[i]\n",
    "    b = np.sum(distances_row[mask])\n",
    "    return b\n",
    "\n",
    "def member_count(labels, i):\n",
    "    mask = labels == i\n",
    "    return len(labels[mask])"
   ]
  },
  {
   "cell_type": "code",
   "execution_count": 9,
   "metadata": {},
   "outputs": [
    {
     "name": "stdout",
     "output_type": "stream",
     "text": [
      "intra: 421518.5842341928\n",
      "inter: 3036983.9735263074\n",
      "n_in : 9364\n",
      "n_out: 30436\n"
     ]
    },
    {
     "data": {
      "text/plain": [
       "0.45112863785361307"
      ]
     },
     "execution_count": 9,
     "metadata": {},
     "output_type": "execute_result"
    }
   ],
   "source": [
    "betacv(df,clusters)"
   ]
  }
 ],
 "metadata": {
  "kernelspec": {
   "display_name": "Python 3",
   "language": "python",
   "name": "python3"
  },
  "language_info": {
   "codemirror_mode": {
    "name": "ipython",
    "version": 3
   },
   "file_extension": ".py",
   "mimetype": "text/x-python",
   "name": "python",
   "nbconvert_exporter": "python",
   "pygments_lexer": "ipython3",
   "version": "3.7.7"
  }
 },
 "nbformat": 4,
 "nbformat_minor": 4
}
